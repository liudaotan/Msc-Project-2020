{
 "cells": [
  {
   "cell_type": "markdown",
   "metadata": {},
   "source": [
    "#### [COM6513] Assignment 1: Text Classification with Logistic Regression\n",
    "\n",
    "### Instructor: Nikos Aletras\n",
    "\n",
    "\n",
    "The goal of this assignment is to develop and test two text classification systems: \n",
    "\n",
    "- **Task 1:** sentiment analysis, in particular to predict the sentiment of movie reviews, i.e. positive or negative (binary classification).\n",
    "- **Task 2:** topic classification, to predict whether a news article is about International issues, Sports or Business (multi-class classification).\n",
    "\n",
    "\n",
    "For that purpose, you will implement:\n",
    "\n",
    "\n",
    "- Text processing methods for extracting Bag-Of-Word features, using \n",
    "    - n-grams (BOW), i.e. unigrams, bigrams and trigrams to obtain vector representations of documents where n=1,2,3 respectively. Two vector weighting schemes should be tested: (1) raw frequencies (**3 marks**); (2) tf.idf (**1 mark**). \n",
    "    - character n-grams (BOCN). A character n-gram is a contiguous sequence of characters given a word, e.g. for n=2, 'coffee' is split into {'co', 'of', 'ff', 'fe', 'ee'}. Two vector weighting schemes should be tested: (1) raw frequencies (**3 marks**); (2) tf.idf (**1 mark**). **Tip: Note the large vocabulary size!** \n",
    "    - a combination of the two vector spaces (n-grams and character n-grams) choosing your best performing wighting respectively (i.e. raw or tfidf). (**3 marks**) **Tip: you should merge the two representations**\n",
    "\n",
    "\n",
    "\n",
    "- Binary Logistic Regression (LR) classifiers for Task 1 that will be able to accurately classify movie reviews trained with: \n",
    "    - (1) BOW-count (raw frequencies) \n",
    "    - (2) BOW-tfidf (tf.idf weighted)\n",
    "    - (3) BOCN-count\n",
    "    - (4) BOCN-tfidf\n",
    "    - (5) BOW+BOCN (best performing weighting; raw or tfidf)\n",
    "\n",
    "\n",
    "\n",
    "- Multiclass Logistic Regression classifiers for Task 2 that will be able to accurately classify news articles trained with:\n",
    "    - (1) BOW-count (raw frequencies) \n",
    "    - (2) BOW-tfidf (tf.idf weighted)\n",
    "    - (3) BOCN-count\n",
    "    - (4) BOCN-tfidf\n",
    "    - (5) BOW+BOCN (best performing weighting; raw or tfidf)\n",
    "\n",
    "\n",
    "\n",
    "- The Stochastic Gradient Descent (SGD) algorithm to estimate the parameters of your Logistic Regression models. Your SGD algorithm should:\n",
    "    - Minimise the Binary Cross-entropy loss function for Task 1 (**3 marks**)\n",
    "    - Minimise the Categorical Cross-entropy loss function for Task 2 (**3 marks**)\n",
    "    - Use L2 regularisation (**2 marks**)\n",
    "    - Perform multiple passes (epochs) over the training data (**1 mark**)\n",
    "    - Randomise the order of training data after each pass (**1 mark**)\n",
    "    - Stop training if the difference between the current and previous development loss is smaller than a threshold (**1 mark**)\n",
    "    - After each epoch print the training and development loss (**1 mark**)\n",
    "\n",
    "\n",
    "\n",
    "- Discuss how did you choose hyperparameters (e.g. learning rate and regularisation strength) for each LR model? You should use a table showing model performance using different set of hyperparameter values. (**5 marks; 2.5 for each task**). **Tip: Instead of using all possible combinations, you could perform a random sampling of combinations.**\n",
    "\n",
    "\n",
    "\n",
    "- After training each LR model, plot the learning process (i.e. training and validation loss in each epoch) using a line plot. Does your model underfit, overfit or is it about right? Explain why. (**2 marks**). \n",
    "\n",
    "\n",
    "\n",
    "- Identify and show the most important features (model interpretability) for each class (i.e. top-10 most positive and top-10 negative weights). Give the top 10 for each class and comment on whether they make sense (if they don't you might have a bug!).  If you were to apply the classifier into a different domain such laptop reviews or restaurant reviews, do you think these features would generalise well? Can you propose what features the classifier could pick up as important in the new domain? (**3 marks; 1.5 for each task**)\n",
    "\n",
    "\n",
    "\n",
    "- Provide well documented and commented code describing all of your choices. In general, you are free to make decisions about text processing (e.g. punctuation, numbers, vocabulary size) and hyperparameter values. We expect to see justifications and discussion for all of your choices (**5 marks**). \n",
    "\n",
    "\n",
    "\n",
    "- Provide efficient solutions by using Numpy arrays when possible. Executing the whole notebook with your code should not take more than 10 minutes on a any standard computer (e.g. Intel Core i5 CPU, 8 or 16GB RAM) excluding hyperparameter tuning runs. You can find tips in [Intro to Python for NLP](https://sheffieldnlp.github.io/com6513/assets/labs/a0_python_intro.pdf) (**2 marks**). \n",
    "\n",
    "\n",
    "\n",
    "\n",
    "\n",
    "\n",
    "\n",
    "\n",
    "### Data - Task 1 \n",
    "\n",
    "The data you will use for Task 1 are taken from here: [http://www.cs.cornell.edu/people/pabo/movie-review-data/](http://www.cs.cornell.edu/people/pabo/movie-review-data/) and you can find it in the `./data_sentiment` folder in CSV format:\n",
    "\n",
    "- `data_sentiment/train.csv`: contains 1,400 reviews, 700 positive (label: 1) and 700 negative (label: 0) to be used for training.\n",
    "- `data_sentiment/dev.csv`: contains 200 reviews, 100 positive and 100 negative to be used for hyperparameter selection and monitoring the training process.\n",
    "- `data_sentiment/test.csv`: contains 400 reviews, 200 positive and 200 negative to be used for testing.\n",
    "\n",
    "### Data - Task 2\n",
    "\n",
    "The data you will use for Task 2 is a subset of the [AG News Corpus](http://groups.di.unipi.it/~gulli/AG_corpus_of_news_articles.html) and you can find it in the `./data_topic` folder in CSV format:\n",
    "\n",
    "- `data_topic/train.csv`: contains 2,400 news, 800 for each class to be used for training.\n",
    "- `data_topic/dev.csv`: contains 150 news articles, 50 for each class to be used for hyperparameter selection and monitoring the training process.\n",
    "- `data_topic/test.csv`: contains 900 news articles, 300 for each class to be used for testing.\n",
    "\n",
    "\n",
    "### Submission Instructions\n",
    "\n",
    "You should submit a Jupyter Notebook file (assignment1.ipynb) and an exported PDF version (you can do it from Jupyter: `File->Download as->PDF via Latex` or you can print it as PDF using your browser).\n",
    "\n",
    "You are advised to follow the code structure given in this notebook by completing all given funtions. You can also write any auxilliary/helper functions (and arguments for the functions) that you might need but note that you can provide a full solution without any such functions. Similarly, you can just use only the packages imported below but you are free to use any functionality from the [Python Standard Library](https://docs.python.org/2/library/index.html), NumPy, SciPy (excluding built-in softmax funtcions) and Pandas. You are not allowed to use any third-party library such as Scikit-learn (apart from metric functions already provided), NLTK, Spacy, Keras etc.. You should mention if you've used Windows to write and test your code because we mostly use Unix based machines for marking (e.g. Ubuntu, MacOS). \n",
    "\n",
    "There is no single correct answer on what your accuracy should be, but correct implementations usually achieve F1-scores around 80\\% or higher. The quality of the analysis of the results is as important as the accuracy itself. \n",
    "\n",
    "This assignment will be marked out of 40. It is worth 40\\% of your final grade in the module.\n",
    "\n",
    "The deadline for this assignment is **23:59 on Fri, 25 Feb 2021** and it needs to be submitted via Blackboard. Standard departmental penalties for lateness will be applied. We use a range of strategies to **detect [unfair means](https://www.sheffield.ac.uk/ssid/unfair-means/index)**, including Turnitin which helps detect plagiarism. Use of unfair means would result in getting a failing grade.\n",
    "\n"
   ]
  },
  {
   "cell_type": "code",
   "execution_count": 1,
   "metadata": {
    "ExecuteTime": {
     "end_time": "2020-03-27T13:41:17.642162Z",
     "start_time": "2020-03-27T13:41:16.891940Z"
    }
   },
   "outputs": [],
   "source": [
    "import pandas as pd\n",
    "import numpy as np\n",
    "from collections import Counter\n",
    "import re\n",
    "import matplotlib.pyplot as plt\n",
    "from sklearn.metrics import accuracy_score, precision_score, recall_score, f1_score\n",
    "import random\n",
    "\n",
    "# fixing random seed for reproducibility\n",
    "random.seed(123)\n",
    "np.random.seed(123)"
   ]
  },
  {
   "cell_type": "code",
   "execution_count": 2,
   "metadata": {},
   "outputs": [],
   "source": [
    "from datetime import datetime \n",
    "start_time = datetime.now()"
   ]
  },
  {
   "cell_type": "markdown",
   "metadata": {},
   "source": [
    "## Task 1: Binary classification"
   ]
  },
  {
   "cell_type": "markdown",
   "metadata": {},
   "source": [
    "## Load Raw texts and labels into arrays\n",
    "\n",
    "First, you need to load the training, development and test sets from their corresponding CSV files (tip: you can use Pandas dataframes)."
   ]
  },
  {
   "cell_type": "code",
   "execution_count": 3,
   "metadata": {
    "ExecuteTime": {
     "end_time": "2020-02-15T14:17:28.145788Z",
     "start_time": "2020-02-15T14:17:28.066100Z"
    }
   },
   "outputs": [],
   "source": [
    "sen_train_df = pd.read_csv('./data_sentiment/train.csv',names=['reviews','label'])\n",
    "sen_dev_df = pd.read_csv('./data_sentiment/dev.csv',names=['reviews','label'])\n",
    "sen_test_df = pd.read_csv('./data_sentiment/test.csv',names=['reviews','label'])"
   ]
  },
  {
   "cell_type": "code",
   "execution_count": 4,
   "metadata": {},
   "outputs": [],
   "source": [
    "topic_train_df = pd.read_csv('./data_topic/train.csv',names=['label','articles'])\n",
    "topic_dev_df = pd.read_csv('./data_topic/dev.csv',names=['label','articles'])\n",
    "topic_test_df = pd.read_csv('./data_topic/test.csv',names=['label','articles'])"
   ]
  },
  {
   "cell_type": "markdown",
   "metadata": {},
   "source": [
    "If you use Pandas you can see a sample of the data."
   ]
  },
  {
   "cell_type": "code",
   "execution_count": 5,
   "metadata": {
    "ExecuteTime": {
     "end_time": "2020-02-15T14:17:28.900892Z",
     "start_time": "2020-02-15T14:17:28.891221Z"
    }
   },
   "outputs": [
    {
     "data": {
      "text/html": [
       "<div>\n",
       "<style scoped>\n",
       "    .dataframe tbody tr th:only-of-type {\n",
       "        vertical-align: middle;\n",
       "    }\n",
       "\n",
       "    .dataframe tbody tr th {\n",
       "        vertical-align: top;\n",
       "    }\n",
       "\n",
       "    .dataframe thead th {\n",
       "        text-align: right;\n",
       "    }\n",
       "</style>\n",
       "<table border=\"1\" class=\"dataframe\">\n",
       "  <thead>\n",
       "    <tr style=\"text-align: right;\">\n",
       "      <th></th>\n",
       "      <th>reviews</th>\n",
       "      <th>label</th>\n",
       "    </tr>\n",
       "  </thead>\n",
       "  <tbody>\n",
       "    <tr>\n",
       "      <th>0</th>\n",
       "      <td>note : some may consider portions of the follo...</td>\n",
       "      <td>1</td>\n",
       "    </tr>\n",
       "    <tr>\n",
       "      <th>1</th>\n",
       "      <td>note : some may consider portions of the follo...</td>\n",
       "      <td>1</td>\n",
       "    </tr>\n",
       "    <tr>\n",
       "      <th>2</th>\n",
       "      <td>every once in a while you see a film that is s...</td>\n",
       "      <td>1</td>\n",
       "    </tr>\n",
       "    <tr>\n",
       "      <th>3</th>\n",
       "      <td>when i was growing up in 1970s , boys in my sc...</td>\n",
       "      <td>1</td>\n",
       "    </tr>\n",
       "    <tr>\n",
       "      <th>4</th>\n",
       "      <td>the muppet movie is the first , and the best m...</td>\n",
       "      <td>1</td>\n",
       "    </tr>\n",
       "  </tbody>\n",
       "</table>\n",
       "</div>"
      ],
      "text/plain": [
       "                                             reviews  label\n",
       "0  note : some may consider portions of the follo...      1\n",
       "1  note : some may consider portions of the follo...      1\n",
       "2  every once in a while you see a film that is s...      1\n",
       "3  when i was growing up in 1970s , boys in my sc...      1\n",
       "4  the muppet movie is the first , and the best m...      1"
      ]
     },
     "execution_count": 5,
     "metadata": {},
     "output_type": "execute_result"
    }
   ],
   "source": [
    "sen_train_df.head()"
   ]
  },
  {
   "cell_type": "code",
   "execution_count": 6,
   "metadata": {},
   "outputs": [
    {
     "data": {
      "text/html": [
       "<div>\n",
       "<style scoped>\n",
       "    .dataframe tbody tr th:only-of-type {\n",
       "        vertical-align: middle;\n",
       "    }\n",
       "\n",
       "    .dataframe tbody tr th {\n",
       "        vertical-align: top;\n",
       "    }\n",
       "\n",
       "    .dataframe thead th {\n",
       "        text-align: right;\n",
       "    }\n",
       "</style>\n",
       "<table border=\"1\" class=\"dataframe\">\n",
       "  <thead>\n",
       "    <tr style=\"text-align: right;\">\n",
       "      <th></th>\n",
       "      <th>label</th>\n",
       "      <th>articles</th>\n",
       "    </tr>\n",
       "  </thead>\n",
       "  <tbody>\n",
       "    <tr>\n",
       "      <th>0</th>\n",
       "      <td>1</td>\n",
       "      <td>Reuters - Venezuelans turned out early\\and in ...</td>\n",
       "    </tr>\n",
       "    <tr>\n",
       "      <th>1</th>\n",
       "      <td>1</td>\n",
       "      <td>Reuters - South Korean police used water canno...</td>\n",
       "    </tr>\n",
       "    <tr>\n",
       "      <th>2</th>\n",
       "      <td>1</td>\n",
       "      <td>Reuters - Thousands of Palestinian\\prisoners i...</td>\n",
       "    </tr>\n",
       "    <tr>\n",
       "      <th>3</th>\n",
       "      <td>1</td>\n",
       "      <td>AFP - Sporadic gunfire and shelling took place...</td>\n",
       "    </tr>\n",
       "    <tr>\n",
       "      <th>4</th>\n",
       "      <td>1</td>\n",
       "      <td>AP - Dozens of Rwandan soldiers flew into Suda...</td>\n",
       "    </tr>\n",
       "  </tbody>\n",
       "</table>\n",
       "</div>"
      ],
      "text/plain": [
       "   label                                           articles\n",
       "0      1  Reuters - Venezuelans turned out early\\and in ...\n",
       "1      1  Reuters - South Korean police used water canno...\n",
       "2      1  Reuters - Thousands of Palestinian\\prisoners i...\n",
       "3      1  AFP - Sporadic gunfire and shelling took place...\n",
       "4      1  AP - Dozens of Rwandan soldiers flew into Suda..."
      ]
     },
     "execution_count": 6,
     "metadata": {},
     "output_type": "execute_result"
    }
   ],
   "source": [
    "topic_train_df.head()"
   ]
  },
  {
   "cell_type": "markdown",
   "metadata": {},
   "source": [
    "The next step is to put the raw texts into Python lists and their corresponding labels into NumPy arrays:\n"
   ]
  },
  {
   "cell_type": "markdown",
   "metadata": {},
   "source": [
    "#### Task 1 "
   ]
  },
  {
   "cell_type": "code",
   "execution_count": 7,
   "metadata": {},
   "outputs": [],
   "source": [
    "sen_train_reviews = list(sen_train_df['reviews'].values)\n",
    "sen_dev_reviews = list(sen_dev_df['reviews'].values)\n",
    "sen_test_reviews = list(sen_test_df['reviews'].values)"
   ]
  },
  {
   "cell_type": "code",
   "execution_count": 8,
   "metadata": {
    "ExecuteTime": {
     "end_time": "2020-02-15T14:17:31.115577Z",
     "start_time": "2020-02-15T14:17:31.108038Z"
    }
   },
   "outputs": [],
   "source": [
    "sen_train_labels = sen_train_df['label'].values\n",
    "sen_dev_labels = sen_dev_df['label'].values\n",
    "sen_test_labels = sen_test_df['label'].values"
   ]
  },
  {
   "cell_type": "markdown",
   "metadata": {},
   "source": [
    "#### Task 2"
   ]
  },
  {
   "cell_type": "code",
   "execution_count": 9,
   "metadata": {},
   "outputs": [],
   "source": [
    "topic_train_articles = list(topic_train_df['articles'].values)\n",
    "topic_dev_articles = list(topic_dev_df['articles'].values)\n",
    "topic_test_articles = list(topic_test_df['articles'].values)"
   ]
  },
  {
   "cell_type": "code",
   "execution_count": 10,
   "metadata": {},
   "outputs": [],
   "source": [
    "topic_train_labels = topic_train_df['label'].values\n",
    "topic_dev_labels = topic_dev_df['label'].values\n",
    "topic_test_labels = topic_test_df['label'].values"
   ]
  },
  {
   "cell_type": "markdown",
   "metadata": {},
   "source": [
    "# Vector Representations of Text \n",
    "\n",
    "\n",
    "To train and test Logisitc Regression models, you first need to obtain vector representations for all documents given a vocabulary of features (unigrams, bigrams, trigrams).\n",
    "\n",
    "\n",
    "## Text Pre-Processing Pipeline\n",
    "\n",
    "To obtain a vocabulary of features, you should: \n",
    "- tokenise all texts into a list of unigrams (tip: using a regular expression) \n",
    "- remove stop words (using the one provided or one of your preference) \n",
    "- compute bigrams, trigrams given the remaining unigrams (or character ngrams from the unigrams)\n",
    "- remove ngrams appearing in less than K documents\n",
    "- use the remaining to create a vocabulary of unigrams, bigrams and trigrams (or character n-grams). You can keep top N if you encounter memory issues.\n"
   ]
  },
  {
   "cell_type": "code",
   "execution_count": 11,
   "metadata": {
    "ExecuteTime": {
     "end_time": "2020-02-15T14:17:31.860420Z",
     "start_time": "2020-02-15T14:17:31.855439Z"
    }
   },
   "outputs": [],
   "source": [
    "stop_words = ['a','in','on','at','and','or', \n",
    "              'to', 'the', 'of', 'an', 'by', \n",
    "              'as', 'is', 'was', 'were', 'been', 'be', \n",
    "              'are','for', 'this', 'that', 'these', 'those', 'you', 'i',\n",
    "             'it', 'he', 'she', 'we', 'they' 'will', 'have', 'has',\n",
    "              'do', 'did', 'can', 'could', 'who', 'which', 'what', \n",
    "             'his', 'her', 'they', 'them', 'from', 'with', 'its','The','will','about']"
   ]
  },
  {
   "cell_type": "markdown",
   "metadata": {},
   "source": [
    "### N-gram extraction from a document\n",
    "\n",
    "You first need to implement the `extract_ngrams` function. It takes as input:\n",
    "- `x_raw`: a string corresponding to the raw text of a document\n",
    "- `ngram_range`: a tuple of two integers denoting the type of ngrams you want to extract, e.g. (1,2) denotes extracting unigrams and bigrams.\n",
    "- `token_pattern`: a string to be used within a regular expression to extract all tokens. Note that data is already tokenised so you could opt for a simple white space tokenisation.\n",
    "- `stop_words`: a list of stop words\n",
    "- `vocab`: a given vocabulary. It should be used to extract specific features.\n",
    "- `char_ngrams`: boolean. If true the function extracts character n-grams\n",
    "\n",
    "and returns:\n",
    "\n",
    "- `x': a list of all extracted features.\n",
    "\n",
    "See the examples below to see how this function should work."
   ]
  },
  {
   "cell_type": "code",
   "execution_count": 12,
   "metadata": {},
   "outputs": [],
   "source": [
    "def extract_ngrams(x_raw, ngram_range=(1,3), token_pattern=r'\\b[A-Za-z][A-Za-z]+\\b', \n",
    "                   stop_words=stop_words, vocab=set(), char_ngrams=False):\n",
    "    #r'\\b[A-Za-z][A-Za-z]+\\b'\n",
    "    #r\"[\\w']+\"\n",
    "    tokenised_content = re.findall(token_pattern, x_raw)\n",
    "    preprocessed_content = [word for word in tokenised_content if word not in stop_words] # stopped-tokenised-content\n",
    "    \n",
    "    ngrams_list = []\n",
    "    ngrams_voc = []\n",
    "    \n",
    "    if not char_ngrams:\n",
    "        for n in range(ngram_range[0],ngram_range[1]+1):\n",
    "            if n == 1:\n",
    "                for word in preprocessed_content:\n",
    "                    ngrams_list.append(word)\n",
    "            else:\n",
    "                ngrams_temp = []\n",
    "                for i in range(len(preprocessed_content)-n+1):\n",
    "                    ngrams_temp.append(tuple(preprocessed_content[i:i+n])) \n",
    "                ngrams_list = ngrams_list + ngrams_temp\n",
    "    \n",
    "    else:\n",
    "        for n in range(ngram_range[0],ngram_range[1]+1):\n",
    "            for term in preprocessed_content:\n",
    "                if n < len(term):\n",
    "                    for i in range(len(term)-n+1):\n",
    "                        ngrams_list.append(term[i:i+n]) \n",
    "                else:\n",
    "                     ngrams_list.append(term)   \n",
    "        \n",
    "    \n",
    "    if not char_ngrams:\n",
    "        if vocab:\n",
    "            for words in ngrams_list:\n",
    "                if isinstance(words,str):\n",
    "                    if words in vocab:\n",
    "                        ngrams_voc.append(words)\n",
    "                else:\n",
    "                    for word in words:\n",
    "                        if word in vocab:\n",
    "                            ngrams_voc.append(words)\n",
    "                    if words == vocab:\n",
    "                        ngrams_voc.append(words)\n",
    "            ngrams_list = ngrams_voc\n",
    "    \n",
    "    return ngrams_list"
   ]
  },
  {
   "cell_type": "markdown",
   "metadata": {},
   "source": [
    "Note that it is OK to represent n-grams using lists instead of tuples: e.g. `['great', ['great', 'movie']]`"
   ]
  },
  {
   "cell_type": "markdown",
   "metadata": {},
   "source": [
    "#### examples:"
   ]
  },
  {
   "cell_type": "code",
   "execution_count": 13,
   "metadata": {},
   "outputs": [
    {
     "data": {
      "text/plain": [
       "['mantra',\n",
       " ('cool', 'mantra'),\n",
       " ('mantra', 'like'),\n",
       " ('gullette', 'cool', 'mantra'),\n",
       " ('cool', 'mantra', 'like'),\n",
       " ('mantra', 'like', 'voice')]"
      ]
     },
     "execution_count": 13,
     "metadata": {},
     "output_type": "execute_result"
    }
   ],
   "source": [
    "extract_ngrams(sen_train_reviews[1], ngram_range=(1,3), vocab = {\"mantra\"})"
   ]
  },
  {
   "cell_type": "code",
   "execution_count": 14,
   "metadata": {},
   "outputs": [
    {
     "data": {
      "text/plain": [
       "['note',\n",
       " 'some',\n",
       " 'may',\n",
       " 'consider',\n",
       " 'portions',\n",
       " 'following',\n",
       " 'text',\n",
       " 'spoilers',\n",
       " 'forewarned',\n",
       " 'among']"
      ]
     },
     "execution_count": 14,
     "metadata": {},
     "output_type": "execute_result"
    }
   ],
   "source": [
    "l1 = extract_ngrams(sen_train_reviews[1], ngram_range=(1,3))\n",
    "l1[:10]"
   ]
  },
  {
   "cell_type": "code",
   "execution_count": 15,
   "metadata": {},
   "outputs": [
    {
     "data": {
      "text/plain": [
       "['app', 'ppl', 'ple', 'appl', 'pple', 'apple']"
      ]
     },
     "execution_count": 15,
     "metadata": {},
     "output_type": "execute_result"
    }
   ],
   "source": [
    "l2 = extract_ngrams(\"apple\", ngram_range=(3,5), char_ngrams=True)\n",
    "l2[:10]"
   ]
  },
  {
   "cell_type": "markdown",
   "metadata": {},
   "source": [
    "### Create a vocabulary \n",
    "\n",
    "The `get_vocab` function will be used to (1) create a vocabulary of ngrams; (2) count the document frequencies of ngrams; (3) their raw frequency. It takes as input:\n",
    "- `X_raw`: a list of strings each corresponding to the raw text of a document\n",
    "- `ngram_range`: a tuple of two integers denoting the type of ngrams you want to extract, e.g. (1,2) denotes extracting unigrams and bigrams.\n",
    "- `token_pattern`: a string to be used within a regular expression to extract all tokens. Note that data is already tokenised so you could opt for a simple white space tokenisation.\n",
    "- `stop_words`: a list of stop words\n",
    "- `min_df`: keep ngrams with a minimum document frequency.\n",
    "- `keep_topN`: keep top-N more frequent ngrams.\n",
    "\n",
    "and returns:\n",
    "\n",
    "- `vocab`: a set of the n-grams that will be used as features.\n",
    "- `df`: a Counter (or dict) that contains ngrams as keys and their corresponding document frequency as values.\n",
    "- `ngram_counts`: counts of each ngram in vocab\n",
    "\n",
    "Hint: it should make use of the `extract_ngrams` function."
   ]
  },
  {
   "cell_type": "code",
   "execution_count": 16,
   "metadata": {},
   "outputs": [],
   "source": [
    "def get_vocab(X_raw, ngram_range=(1,3), token_pattern = r'\\b[A-Za-z][A-Za-z]+\\b', \n",
    "              min_df=0, keep_topN=0, \n",
    "              stop_words = stop_words,char_ngrams=False):\n",
    "    \n",
    "    ngrams_list_all = []\n",
    "    if isinstance(X_raw,list):\n",
    "        for i in range(len(X_raw)):\n",
    "            ngrams_list = extract_ngrams(X_raw[i], ngram_range = ngram_range, token_pattern = token_pattern, stop_words = stop_words, char_ngrams=char_ngrams)\n",
    "            ngrams_list_all = ngrams_list_all + ngrams_list\n",
    "    else:\n",
    "        ngrams_list = extract_ngrams(X_raw, ngram_range = ngram_range, token_pattern = token_pattern, stop_words = stop_words, char_ngrams=char_ngrams)\n",
    "        ngrams_list_all = ngrams_list_all + ngrams_list\n",
    "   \n",
    "    df = Counter(ngrams_list_all)\n",
    "    sorted_df = sorted(df.items(), key = lambda x :(-x[1])) # sort the frequency  \n",
    "    \n",
    "    ngram_counts = {}\n",
    "    i = 0\n",
    "    for word,num in sorted_df:\n",
    "        if i < keep_topN:\n",
    "            if num > min_df:\n",
    "                ngram_counts.update({word: num}) \n",
    "                i += 1   \n",
    "        else:\n",
    "            break\n",
    "    \n",
    "    vocab = list(ngram_counts.keys())\n",
    "        \n",
    "    return vocab, df, ngram_counts"
   ]
  },
  {
   "cell_type": "markdown",
   "metadata": {},
   "source": [
    "Now you should use `get_vocab` to create your vocabulary and get document and raw frequencies of n-grams:"
   ]
  },
  {
   "cell_type": "markdown",
   "metadata": {},
   "source": [
    "#### BOW vocab"
   ]
  },
  {
   "cell_type": "code",
   "execution_count": 17,
   "metadata": {},
   "outputs": [],
   "source": [
    "vocab, df, ngram_counts = get_vocab(sen_train_reviews, min_df = 5, keep_topN= 5000)"
   ]
  },
  {
   "cell_type": "markdown",
   "metadata": {},
   "source": [
    "#### BOCN vocab"
   ]
  },
  {
   "cell_type": "code",
   "execution_count": 18,
   "metadata": {},
   "outputs": [],
   "source": [
    "vocab_BOCN, df_BOCN, ngram_counts_BOCN = get_vocab(sen_train_reviews,ngram_range= (4,7), min_df = 5, keep_topN= 5000,char_ngrams=True)"
   ]
  },
  {
   "cell_type": "markdown",
   "metadata": {},
   "source": [
    "Then, you need to create 2 dictionaries: (1) vocabulary id -> word; and  (2) word -> vocabulary id so you can use them for reference:"
   ]
  },
  {
   "cell_type": "code",
   "execution_count": 19,
   "metadata": {},
   "outputs": [],
   "source": [
    "word2id = {}\n",
    "id2word = {}\n",
    "\n",
    "for word in vocab:\n",
    "    if word not in word2id:\n",
    "        new_id = len(word2id)\n",
    "        word2id[word] = new_id\n",
    "        id2word[new_id] = word"
   ]
  },
  {
   "cell_type": "code",
   "execution_count": 20,
   "metadata": {},
   "outputs": [
    {
     "name": "stdout",
     "output_type": "stream",
     "text": [
      "(1) The example of vocabulary id -> word:\n",
      "{0: 'film'}\n",
      "{1: 'but'}\n",
      "{2: 'one'}\n",
      "{3: 'movie'}\n",
      "{4: 'not'}\n",
      "{5: 'all'}\n",
      "{6: 'there'}\n",
      "{7: 'like'}\n",
      "{8: 'so'}\n",
      "{9: 'out'}\n",
      "\n",
      "(2) The example of word -> vocabulary id:\n",
      "{'film': 0}\n",
      "{'but': 1}\n",
      "{'one': 2}\n",
      "{'movie': 3}\n",
      "{'not': 4}\n",
      "{'all': 5}\n",
      "{'there': 6}\n",
      "{'like': 7}\n",
      "{'so': 8}\n",
      "{'out': 9}\n"
     ]
    }
   ],
   "source": [
    "print(\"(1) The example of vocabulary id -> word:\")\n",
    "i = 0\n",
    "for i,(k,v) in enumerate(id2word.items()):\n",
    "    print({k:v})\n",
    "    i += 1\n",
    "    if i == 10:\n",
    "        break\n",
    "        \n",
    "print()\n",
    "print(\"(2) The example of word -> vocabulary id:\")\n",
    "i = 0\n",
    "for i,(k,v) in enumerate(word2id.items()):\n",
    "    print({k:v})\n",
    "    i += 1\n",
    "    if i == 10:\n",
    "        break"
   ]
  },
  {
   "cell_type": "markdown",
   "metadata": {},
   "source": [
    "Now you should be able to extract n-grams for each text in the training, development and test sets:"
   ]
  },
  {
   "cell_type": "code",
   "execution_count": 21,
   "metadata": {
    "ExecuteTime": {
     "end_time": "2020-02-15T14:17:40.213253Z",
     "start_time": "2020-02-15T14:17:39.329147Z"
    }
   },
   "outputs": [],
   "source": [
    "# training set\n",
    "train_vocab, train_df, train_ngram_counts = vocab, df, ngram_counts\n",
    "train_vocab_BOCN, train_df_BOCN, train_ngram_counts_BOCN = vocab_BOCN, df_BOCN, ngram_counts_BOCN "
   ]
  },
  {
   "cell_type": "code",
   "execution_count": 22,
   "metadata": {},
   "outputs": [],
   "source": [
    "# development set\n",
    "dev_vocab, dev_df, dev_ngram_counts = get_vocab(sen_dev_reviews, min_df = 5, keep_topN= 5000)\n",
    "dev_vocab_BOCN, dev_df_BOCN, dev_ngram_counts_BOCN = get_vocab(sen_dev_reviews,ngram_range= (4,7), min_df = 5, keep_topN= 5000,char_ngrams=True)"
   ]
  },
  {
   "cell_type": "code",
   "execution_count": 23,
   "metadata": {},
   "outputs": [],
   "source": [
    "# test set\n",
    "test_vocab, test_df, test_ngram_counts = get_vocab(sen_test_reviews, min_df = 5, keep_topN= 5000)\n",
    "test_vocab_BOCN, test_df_BOCN, test_ngram_counts_BOCN = get_vocab(sen_test_reviews,ngram_range= (4,7), min_df = 5, keep_topN= 5000,char_ngrams=True)"
   ]
  },
  {
   "cell_type": "markdown",
   "metadata": {},
   "source": [
    "## Vectorise documents "
   ]
  },
  {
   "cell_type": "markdown",
   "metadata": {},
   "source": [
    "Next, write a function `vectoriser` to obtain Bag-of-ngram representations for a list of documents. The function should take as input:\n",
    "- `X_ngram`: a list of texts (documents), where each text is represented as list of n-grams in the `vocab`\n",
    "- `vocab`: a set of n-grams to be used for representing the documents\n",
    "\n",
    "and return:\n",
    "- `X_vec`: an array with dimensionality Nx|vocab| where N is the number of documents and |vocab| is the size of the vocabulary. Each element of the array should represent the frequency of a given n-gram in a document.\n"
   ]
  },
  {
   "cell_type": "code",
   "execution_count": 25,
   "metadata": {},
   "outputs": [],
   "source": [
    "def vectorise(content, vocab = vocab, bocn = False): # Note: the content here is a raw text list;  \n",
    "    \n",
    "    X_vec = np.zeros((len(content),len(vocab)))\n",
    "    \n",
    "    doc_df = []\n",
    "    for i in range(len(content)):\n",
    "        if not bocn:\n",
    "            _,temp_doc_df,_ = get_vocab(content[i], min_df = 5, keep_topN= 5000)\n",
    "        else:\n",
    "            _,temp_doc_df,_ = get_vocab(content[i], min_df = 5, keep_topN= 5000,ngram_range= (4,7),char_ngrams=True)\n",
    "        doc_df.append(temp_doc_df)\n",
    "        \n",
    "    vocab_list = vocab\n",
    "\n",
    "    for i in range(len(content)):\n",
    "        for j in range(len(vocab_list)):\n",
    "            X_vec[i,j] =  doc_df[i][vocab_list[j]] \n",
    "    \n",
    "    return X_vec"
   ]
  },
  {
   "cell_type": "markdown",
   "metadata": {},
   "source": [
    "Finally, use `vectorise` to obtain document vectors for each document in the train, development and test set. You should extract both count and tf.idf vectors respectively:"
   ]
  },
  {
   "cell_type": "markdown",
   "metadata": {},
   "source": [
    "#### Count vectors"
   ]
  },
  {
   "cell_type": "code",
   "execution_count": 26,
   "metadata": {},
   "outputs": [],
   "source": [
    "train_vec = vectorise(sen_train_reviews)\n",
    "dev_vec = vectorise(sen_dev_reviews)\n",
    "test_vec = vectorise(sen_test_reviews)"
   ]
  },
  {
   "cell_type": "code",
   "execution_count": 27,
   "metadata": {},
   "outputs": [],
   "source": [
    "train_vec_BOCN = vectorise(sen_train_reviews,vocab = vocab_BOCN, bocn = True)\n",
    "dev_vec_BOCN = vectorise(sen_dev_reviews,vocab = vocab_BOCN, bocn = True)\n",
    "test_vec_BOCN = vectorise(sen_test_reviews,vocab = vocab_BOCN, bocn = True)"
   ]
  },
  {
   "cell_type": "markdown",
   "metadata": {},
   "source": [
    "#### TF.IDF vectors\n",
    "\n",
    "First compute `idfs` an array containing inverted document frequencies (Note: its elements should correspond to your `vocab`)"
   ]
  },
  {
   "cell_type": "code",
   "execution_count": 28,
   "metadata": {},
   "outputs": [],
   "source": [
    "import math\n",
    "def get_idf(vocab,sen_train_reviews,train_vec):\n",
    "    dfw = np.zeros((1,len(vocab))) # dfw : document frequency of the word\n",
    "    idfs = np.zeros((1,len(vocab)))\n",
    "\n",
    "    for j in range(len(vocab)):\n",
    "        for i in range(len(sen_train_reviews)):\n",
    "            if train_vec[i,j] == 0:\n",
    "                continue\n",
    "            else:\n",
    "                dfw[0,j] += 1\n",
    "\n",
    "    idfs_no_log = len(sen_train_reviews)/dfw\n",
    "    for i in range(len(vocab)):\n",
    "        idfs[0,i] = math.log10(idfs_no_log[0,i])\n",
    "    \n",
    "    return idfs"
   ]
  },
  {
   "cell_type": "code",
   "execution_count": 29,
   "metadata": {},
   "outputs": [],
   "source": [
    "idfs = get_idf(vocab,sen_train_reviews,train_vec)"
   ]
  },
  {
   "cell_type": "code",
   "execution_count": 30,
   "metadata": {},
   "outputs": [],
   "source": [
    "idfs_BOCN = get_idf(train_vocab_BOCN,sen_train_reviews,train_vec_BOCN)"
   ]
  },
  {
   "cell_type": "markdown",
   "metadata": {},
   "source": [
    "Then transform your count vectors to tf.idf vectors:"
   ]
  },
  {
   "cell_type": "code",
   "execution_count": 31,
   "metadata": {},
   "outputs": [],
   "source": [
    "train_tfidf_vectors = train_vec * idfs\n",
    "dev_tfidf_vectors = dev_vec * idfs\n",
    "test_tfidf_vectors = test_vec * idfs"
   ]
  },
  {
   "cell_type": "code",
   "execution_count": 32,
   "metadata": {},
   "outputs": [],
   "source": [
    "train_tfidf_vectors_BOCN = train_vec_BOCN * idfs_BOCN\n",
    "dev_tfidf_vectors_BOCN = dev_vec_BOCN * idfs_BOCN\n",
    "test_tfidf_vectors_BOCN = test_vec_BOCN * idfs_BOCN"
   ]
  },
  {
   "cell_type": "code",
   "execution_count": 33,
   "metadata": {},
   "outputs": [],
   "source": [
    "# bow(tfidf) + bocn(tfidf)\n",
    "combined_train_tfidf = np.hstack((train_tfidf_vectors,train_tfidf_vectors_BOCN))\n",
    "combined_dev_tfidf = np.hstack((dev_tfidf_vectors,dev_tfidf_vectors_BOCN))\n",
    "combined_test_tfidf = np.hstack((test_tfidf_vectors,test_tfidf_vectors_BOCN))"
   ]
  },
  {
   "cell_type": "markdown",
   "metadata": {},
   "source": [
    "# Binary Logistic Regression\n",
    "\n",
    "After obtaining vector representations of the data, now you are ready to implement Binary Logistic Regression for classifying sentiment."
   ]
  },
  {
   "cell_type": "markdown",
   "metadata": {},
   "source": [
    "First, you need to implement the `sigmoid` function. It takes as input:\n",
    "\n",
    "- `z`: a real number or an array of real numbers \n",
    "\n",
    "and returns:\n",
    "\n",
    "- `sig`: the sigmoid of `z`"
   ]
  },
  {
   "cell_type": "code",
   "execution_count": 34,
   "metadata": {
    "ExecuteTime": {
     "end_time": "2020-02-15T14:17:44.160661Z",
     "start_time": "2020-02-15T14:17:44.157902Z"
    }
   },
   "outputs": [],
   "source": [
    "def sigmoid(z):\n",
    "    sig =  1.0/(1 + np.exp(-z))\n",
    "    return sig"
   ]
  },
  {
   "cell_type": "markdown",
   "metadata": {},
   "source": [
    "Then, implement the `predict_proba` function to obtain prediction probabilities. It takes as input:\n",
    "\n",
    "- `X`: an array of inputs, i.e. documents represented by bag-of-ngram vectors ($N \\times |vocab|$)\n",
    "- `weights`: a 1-D array of the model's weights $(1, |vocab|)$\n",
    "\n",
    "and returns:\n",
    "\n",
    "- `preds_proba`: the prediction probabilities of X given the weights"
   ]
  },
  {
   "cell_type": "code",
   "execution_count": 35,
   "metadata": {
    "ExecuteTime": {
     "end_time": "2020-02-15T14:17:44.718566Z",
     "start_time": "2020-02-15T14:17:44.715017Z"
    }
   },
   "outputs": [],
   "source": [
    "def predict_proba(X, weights):\n",
    "    return sigmoid(np.dot(X, weights.T)) # z = XW + b"
   ]
  },
  {
   "cell_type": "markdown",
   "metadata": {},
   "source": [
    "Then, implement the `predict_class` function to obtain the most probable class for each vector in an array of input vectors. It takes as input:\n",
    "\n",
    "- `X`: an array of documents represented by bag-of-ngram vectors ($N \\times |vocab|$)\n",
    "- `weights`: a 1-D array of the model's weights $(1, |vocab|)$\n",
    "\n",
    "and returns:\n",
    "\n",
    "- `preds_class`: the predicted class for each x in X given the weights"
   ]
  },
  {
   "cell_type": "code",
   "execution_count": 36,
   "metadata": {},
   "outputs": [],
   "source": [
    "def predict_class(X, weights):\n",
    "    probability = predict_proba(X, weights)\n",
    "    return  np.around(probability, 0) # prob <0.5 = 0; else = 1"
   ]
  },
  {
   "cell_type": "markdown",
   "metadata": {},
   "source": [
    "To learn the weights from data, we need to minimise the binary cross-entropy loss. Implement `binary_loss` that takes as input:\n",
    "\n",
    "- `X`: input vectors\n",
    "- `Y`: labels\n",
    "- `weights`: model weights\n",
    "- `alpha`: regularisation strength\n",
    "\n",
    "and return:\n",
    "\n",
    "- `l`: the loss score"
   ]
  },
  {
   "cell_type": "code",
   "execution_count": 37,
   "metadata": {
    "ExecuteTime": {
     "end_time": "2020-02-15T14:17:45.455533Z",
     "start_time": "2020-02-15T14:17:45.451475Z"
    }
   },
   "outputs": [],
   "source": [
    "def binary_loss(X, Y, weights, alpha=0.00001):\n",
    "    '''\n",
    "    Binary Cross-entropy Loss\n",
    "\n",
    "    X:(len(X),len(vocab))\n",
    "    Y: array len(Y)\n",
    "    weights: array len(X)\n",
    "    '''\n",
    "    loss_BCE = 0\n",
    "    \n",
    "    for i in range(len(Y)):\n",
    "        proba = predict_proba(X[i], weights) # probability\n",
    "        loss_BCE += (-Y[i]*np.log(proba) - (1-Y[i])*np.log(1-proba))\n",
    "       \n",
    "    L2 = alpha * np.dot(weights,weights.T)\n",
    "    l = (loss_BCE + L2)/X.shape[0] # the average loss\n",
    "\n",
    "    return l"
   ]
  },
  {
   "cell_type": "markdown",
   "metadata": {},
   "source": [
    "Now, you can implement Stochastic Gradient Descent to learn the weights of your sentiment classifier. The `SGD` function takes as input:\n",
    "\n",
    "- `X_tr`: array of training data (vectors)\n",
    "- `Y_tr`: labels of `X_tr`\n",
    "- `X_dev`: array of development (i.e. validation) data (vectors)\n",
    "- `Y_dev`: labels of `X_dev`\n",
    "- `lr`: learning rate\n",
    "- `alpha`: regularisation strength\n",
    "- `epochs`: number of full passes over the training data\n",
    "- `tolerance`: stop training if the difference between the current and previous validation loss is smaller than a threshold\n",
    "- `print_progress`: flag for printing the training progress (train/validation loss)\n",
    "\n",
    "\n",
    "and returns:\n",
    "\n",
    "- `weights`: the weights learned\n",
    "- `training_loss_history`: an array with the average losses of the whole training set after each epoch\n",
    "- `validation_loss_history`: an array with the average losses of the whole development set after each epoch"
   ]
  },
  {
   "cell_type": "code",
   "execution_count": 38,
   "metadata": {},
   "outputs": [],
   "source": [
    "def SGD(X_tr, Y_tr, X_dev=[], Y_dev=[], lr=0.1,\n",
    "        alpha=0.00001, epochs = 5, tolerance=0.0001, print_progress = True):\n",
    "    \n",
    "    weights = np.zeros((X_tr.shape[1],)) # initialize the weights\n",
    "    training_loss_history = [] # to record \n",
    "    validation_loss_history = [] # to record\n",
    "\n",
    "    shuffled_index_list = list(range(len(Y_tr))) \n",
    "    \n",
    "    count = 0\n",
    "    while True:\n",
    "        count += 1\n",
    "        np.random.shuffle(shuffled_index_list) \n",
    "        # Randomise the order of training data after each pass\n",
    "    \n",
    "        for i in shuffled_index_list:\n",
    "            grad = (predict_proba(X_tr[i], weights) - Y_tr[i]) * X_tr[i] # get current gradient\n",
    "            weights = weights - lr * grad # optimize the weight follow the direction of current gradient \n",
    "            \n",
    "        temp_train_loss = binary_loss(X_tr, Y_tr, weights, alpha)\n",
    "        temp_val_loss = binary_loss(X_dev, Y_dev, weights, alpha)        \n",
    "\n",
    "        training_loss_history.append(temp_train_loss)\n",
    "        validation_loss_history.append(temp_val_loss)\n",
    "        \n",
    "        if print_progress and (count%40 == 1): # print the loss every 40 epoches\n",
    "            print(\"Epoch: \",count, temp_train_loss, temp_val_loss)\n",
    "        \n",
    "        # the threshold\n",
    "        if (training_loss_history[count-2] - training_loss_history[count-1] <= tolerance) & (count >= epochs):\n",
    "            break\n",
    "    \n",
    "    return weights, training_loss_history, validation_loss_history"
   ]
  },
  {
   "cell_type": "markdown",
   "metadata": {},
   "source": [
    "## Train and Evaluate Logistic Regression with Count vectors\n",
    "\n",
    "First train the model using SGD:"
   ]
  },
  {
   "cell_type": "markdown",
   "metadata": {},
   "source": [
    "Now plot the training and validation history per epoch for the best hyperparameter combination. Does your model underfit, overfit or is it about right? Explain why."
   ]
  },
  {
   "cell_type": "code",
   "execution_count": 39,
   "metadata": {},
   "outputs": [
    {
     "name": "stdout",
     "output_type": "stream",
     "text": [
      "Epoch:  1 0.6284261980307613 0.645699803021815\n",
      "Epoch:  41 0.25494511373590867 0.4202886101491369\n",
      "Epoch:  81 0.1797118192242244 0.39332242367385384\n",
      "Epoch:  121 0.1406420838535107 0.3845810822117814\n",
      "Epoch:  161 0.11583968639023466 0.38189783263858246\n",
      "Epoch:  201 0.09857031797173846 0.3816821939235458\n",
      "Epoch:  241 0.08575816587517096 0.38252929019608367\n",
      "Epoch:  281 0.07588213441438331 0.38408631551875055\n",
      "Epoch:  321 0.06801072364272918 0.3862113263168463\n",
      "Epoch:  361 0.06159737299104943 0.38834128358038383\n",
      "Epoch:  401 0.05627362331232713 0.3906254797950557\n",
      "Epoch:  441 0.0517825404081891 0.39299163542817\n"
     ]
    },
    {
     "data": {
      "image/png": "[encoded data removed]",
      "text/plain": [
       "<Figure size 432x288 with 1 Axes>"
      ]
     },
     "metadata": {
      "needs_background": "light"
     },
     "output_type": "display_data"
    }
   ],
   "source": [
    "weights, training_loss_history, validation_loss_history = SGD(train_vec, sen_train_labels,\n",
    "                                                              X_dev = dev_vec,Y_dev= sen_dev_labels,\n",
    "                                                             lr=0.0001,alpha=0.001,epochs=100)\n",
    "\n",
    "epoch = np.array(range(len(training_loss_history)))\n",
    "plt.plot(epoch, training_loss_history,label='train loss')\n",
    "plt.plot(epoch, validation_loss_history,label = 'validation loss')\n",
    "plt.xlabel('Epoch')\n",
    "plt.ylabel('Loss')\n",
    "plt.legend()\n",
    "plt.show()"
   ]
  },
  {
   "cell_type": "markdown",
   "metadata": {
    "ExecuteTime": {
     "end_time": "2020-01-21T16:52:26.583150Z",
     "start_time": "2020-01-21T16:52:26.578754Z"
    }
   },
   "source": [
    "#### Explain"
   ]
  },
  {
   "cell_type": "markdown",
   "metadata": {},
   "source": [
    "The model is correct, as the overall trend for both lines is down. \n",
    "However, after about 50 epochs, there is overfitting, as the training set performs better, while the validation training does not get better, and the loss of validation rises slightly as the number of cycles increases."
   ]
  },
  {
   "cell_type": "markdown",
   "metadata": {},
   "source": [
    "#### Evaluation\n",
    "\n",
    "Compute accuracy, precision, recall and F1-scores:"
   ]
  },
  {
   "cell_type": "code",
   "execution_count": 40,
   "metadata": {
    "ExecuteTime": {
     "end_time": "2020-02-15T14:17:51.607940Z",
     "start_time": "2020-02-15T14:17:51.600272Z"
    }
   },
   "outputs": [
    {
     "name": "stdout",
     "output_type": "stream",
     "text": [
      "Accuracy: 0.825\n",
      "Precision: 0.8125\n",
      "Recall: 0.845\n",
      "F1-Score: 0.8284313725490196\n"
     ]
    }
   ],
   "source": [
    "X_te_count = test_vec\n",
    "w_count = weights\n",
    "Y_te = sen_test_labels\n",
    "preds_te_count = predict_class(X_te_count, w_count)\n",
    "\n",
    "print('Accuracy:', accuracy_score(Y_te,preds_te_count))\n",
    "print('Precision:', precision_score(Y_te,preds_te_count))\n",
    "print('Recall:', recall_score(Y_te,preds_te_count))\n",
    "print('F1-Score:', f1_score(Y_te,preds_te_count))"
   ]
  },
  {
   "cell_type": "markdown",
   "metadata": {},
   "source": []
  },
  {
   "cell_type": "markdown",
   "metadata": {},
   "source": [
    "Finally, print the top-10 words for the negative and positive class respectively."
   ]
  },
  {
   "cell_type": "code",
   "execution_count": 41,
   "metadata": {
    "ExecuteTime": {
     "end_time": "2020-02-15T14:17:51.613935Z",
     "start_time": "2020-02-15T14:17:51.610660Z"
    }
   },
   "outputs": [
    {
     "name": "stdout",
     "output_type": "stream",
     "text": [
      "bad\n",
      "unfortunately\n",
      "boring\n",
      "script\n",
      "worst\n",
      "supposed\n",
      "nothing\n",
      "looks\n",
      "why\n",
      "only\n"
     ]
    }
   ],
   "source": [
    "top_neg = w_count.argsort()[:10]\n",
    "for i in top_neg:\n",
    "    print(id2word[i])"
   ]
  },
  {
   "cell_type": "code",
   "execution_count": 42,
   "metadata": {
    "ExecuteTime": {
     "end_time": "2020-02-15T14:17:51.624122Z",
     "start_time": "2020-02-15T14:17:51.615674Z"
    }
   },
   "outputs": [
    {
     "name": "stdout",
     "output_type": "stream",
     "text": [
      "great\n",
      "fun\n",
      "well\n",
      "seen\n",
      "both\n",
      "hilarious\n",
      "perfectly\n",
      "simple\n",
      "true\n",
      "works\n"
     ]
    }
   ],
   "source": [
    "top_pos = w_count.argsort()[::-1][:10]\n",
    "for i in top_pos:\n",
    "    print(id2word[i])"
   ]
  },
  {
   "cell_type": "markdown",
   "metadata": {},
   "source": [
    "#### Identify and show the most important features (model interpretability) for each class (i.e. top-10 most positive and top-10 negative weights). Give the top 10 for each class and comment on whether they make sense (if they don't you might have a bug!). "
   ]
  },
  {
   "cell_type": "markdown",
   "metadata": {},
   "source": [
    "It can be seen that of the negative top 10 words, 8 are negative and 2 are neutral, similarly the majority of the positive top 10 words are also complimentary. This model is correct."
   ]
  },
  {
   "cell_type": "markdown",
   "metadata": {},
   "source": [
    "If we were to apply the classifier we've learned into a different domain such laptop reviews or restaurant reviews, do you think these features would generalise well? Can you propose what features the classifier could pick up as important in the new domain?"
   ]
  },
  {
   "cell_type": "markdown",
   "metadata": {},
   "source": [
    "#### Provide your answer here..."
   ]
  },
  {
   "cell_type": "markdown",
   "metadata": {},
   "source": [
    "The model doesn't work well because the review terms are different for different areas. For example, food would be described by the word 'delicious', but this word would not appear in a film review.\n",
    "\n",
    "Also, the same words appear in different domains may have completely opposite meanings. For example, the word \"interesting\" in a review of a film often means that the film's plot is interesting, whereas if the food is described by the word \"interesting\", it is usually a euphemism for not good.\n",
    "\n",
    "Some words are generic, such as good, bad, great, etc. These words are still important in new domains."
   ]
  },
  {
   "cell_type": "markdown",
   "metadata": {},
   "source": [
    "### Discuss how did you choose model hyperparameters (e.g. learning rate and regularisation strength)? What is the relation between training epochs and learning rate? How the regularisation strength affects performance?"
   ]
  },
  {
   "cell_type": "markdown",
   "metadata": {},
   "source": [
    "#### The reult of different hyperparameters\n",
    "\n",
    "| Learning rate | regularisation strength |Precision  | Recall  | F1-Score  | num_epoch  |\n",
    "|:-:|:-:|:-:|:-:|:-:|:-:|\n",
    "|0.0001|0.001|0.813|0.845|0.828|441|\n",
    "|0.001|0.001|0.799|0.835|0.816|121|\n",
    "|0.0001|0.01|0.812|0.845|0.828|441|\n",
    "\n",
    "Based on tests and experience, learning rate is set to 0.001 and the regularization strength is set to 0.001. Change these two value and compare the results:\n",
    "\n",
    "The learning rate determines the step size of each optimization. The larger the learning rate, the faster the optimization and the smaller the number of epochs required. If the learning rate is too large, it is possible that the loss will not converge.\n",
    "\n",
    "The larger the regularisation, the smaller the weight of the less important words, the easier it is to filter out noise and reduce the risk of overfitting; however, too large value of regularisation strength can lead to underfitting."
   ]
  },
  {
   "cell_type": "markdown",
   "metadata": {},
   "source": [
    "## Train and Evaluate Logistic Regression with TF.IDF vectors\n",
    "\n",
    "Follow the same steps as above (i.e. evaluating count n-gram representations).\n"
   ]
  },
  {
   "cell_type": "markdown",
   "metadata": {},
   "source": [
    "#### BOW-tfidf"
   ]
  },
  {
   "cell_type": "code",
   "execution_count": 43,
   "metadata": {},
   "outputs": [
    {
     "name": "stdout",
     "output_type": "stream",
     "text": [
      "Epoch:  1 0.6389469814138928 0.664834675744325\n",
      "Epoch:  41 0.2246296200637849 0.45091398418529155\n",
      "Epoch:  81 0.14612161491727588 0.41294059152127305\n",
      "Epoch:  121 0.10886600556840197 0.3970809289308347\n",
      "Epoch:  161 0.08676903430237426 0.3891163588828387\n",
      "Epoch:  201 0.07208318887781374 0.38480309411725266\n",
      "Epoch:  241 0.06160632058509947 0.38249046202374\n",
      "Epoch:  281 0.05375693450779893 0.3813093838864318\n",
      "Epoch:  321 0.04765957453292119 0.3808776257706482\n",
      "Epoch:  361 0.04278911662895648 0.3809115276452972\n"
     ]
    },
    {
     "data": {
      "image/png": "[encoded data removed]",
      "text/plain": [
       "<Figure size 432x288 with 1 Axes>"
      ]
     },
     "metadata": {
      "needs_background": "light"
     },
     "output_type": "display_data"
    }
   ],
   "source": [
    "weights_tfidf, training_loss_history_tfidf, validation_loss_history_tfidf = SGD(train_tfidf_vectors, sen_train_labels,\n",
    "                                                              X_dev = dev_tfidf_vectors,Y_dev= sen_dev_labels,\n",
    "                                                             lr=0.0001,alpha=0.001,epochs=100)\n",
    "\n",
    "epoch = np.array(range(len(training_loss_history)))\n",
    "plt.plot(epoch, training_loss_history,label='train loss')\n",
    "plt.plot(epoch, validation_loss_history,label = 'validation loss')\n",
    "plt.xlabel('Epoch')\n",
    "plt.ylabel('Loss')\n",
    "plt.legend()\n",
    "plt.show()"
   ]
  },
  {
   "cell_type": "markdown",
   "metadata": {},
   "source": [
    "The model is correct, as the overall trend for both lines is down. \n",
    "However, after about 50 epochs, there is overfitting, as the training set performs better, while the validation training does not get better, and the loss of validation rises slightly as the number of cycles increases."
   ]
  },
  {
   "cell_type": "code",
   "execution_count": 44,
   "metadata": {},
   "outputs": [
    {
     "name": "stdout",
     "output_type": "stream",
     "text": [
      "Accuracy: 0.845\n",
      "Precision: 0.8382352941176471\n",
      "Recall: 0.855\n",
      "F1-Score: 0.8465346534653465\n"
     ]
    }
   ],
   "source": [
    "preds_te_count = predict_class(test_tfidf_vectors, weights_tfidf)\n",
    "Y_te = sen_test_labels\n",
    "\n",
    "print('Accuracy:', accuracy_score(Y_te,preds_te_count))\n",
    "print('Precision:', precision_score(Y_te,preds_te_count))\n",
    "print('Recall:', recall_score(Y_te,preds_te_count))\n",
    "print('F1-Score:', f1_score(Y_te,preds_te_count))"
   ]
  },
  {
   "cell_type": "markdown",
   "metadata": {},
   "source": [
    "### Now repeat the training and evaluation process for BOW-tfidf, BOCN-count, BOCN-tfidf, BOW+BOCN including hyperparameter tuning for each model..."
   ]
  },
  {
   "cell_type": "markdown",
   "metadata": {},
   "source": [
    "#### BOCN-count"
   ]
  },
  {
   "cell_type": "code",
   "execution_count": 45,
   "metadata": {},
   "outputs": [
    {
     "name": "stdout",
     "output_type": "stream",
     "text": [
      "Epoch:  1 0.5079376515502246 0.6016002661302013\n",
      "Epoch:  41 0.06391244645176795 0.46112752386645445\n",
      "Epoch:  81 0.035210245460722066 0.5253775045236586\n"
     ]
    },
    {
     "data": {
      "image/png": "[encoded data removed]",
      "text/plain": [
       "<Figure size 432x288 with 1 Axes>"
      ]
     },
     "metadata": {
      "needs_background": "light"
     },
     "output_type": "display_data"
    }
   ],
   "source": [
    "# BOCN-count\n",
    "weights_BOCN_count, training_loss_history, validation_loss_history = SGD(train_vec_BOCN, sen_train_labels,\n",
    "                                                              X_dev = dev_vec_BOCN,Y_dev= sen_dev_labels,\n",
    "                                                             lr=0.0001,alpha=0.001,epochs=100)\n",
    "\n",
    "epoch = np.array(range(len(training_loss_history)))\n",
    "plt.plot(epoch, training_loss_history,label='train loss')\n",
    "plt.plot(epoch, validation_loss_history,label = 'validation loss')\n",
    "plt.xlabel('Epoch')\n",
    "plt.ylabel('Loss')\n",
    "plt.legend()\n",
    "plt.show()"
   ]
  },
  {
   "cell_type": "markdown",
   "metadata": {},
   "source": [
    "The model is wrong. After about 10 epochs, there is overfitting, as the training set performs better, while the validation training does get worse, and the loss of validation rises significantily as the number of cycles increases."
   ]
  },
  {
   "cell_type": "code",
   "execution_count": 46,
   "metadata": {},
   "outputs": [
    {
     "name": "stdout",
     "output_type": "stream",
     "text": [
      "Accuracy: 0.8025\n",
      "Precision: 0.784037558685446\n",
      "Recall: 0.835\n",
      "F1-Score: 0.8087167070217918\n"
     ]
    }
   ],
   "source": [
    "preds_te_count = predict_class(test_vec_BOCN, weights_BOCN_count)\n",
    "Y_te = sen_test_labels\n",
    "\n",
    "print('Accuracy:', accuracy_score(Y_te,preds_te_count))\n",
    "print('Precision:', precision_score(Y_te,preds_te_count))\n",
    "print('Recall:', recall_score(Y_te,preds_te_count))\n",
    "print('F1-Score:', f1_score(Y_te,preds_te_count))"
   ]
  },
  {
   "cell_type": "markdown",
   "metadata": {},
   "source": [
    "#### BOCN-tfidf"
   ]
  },
  {
   "cell_type": "code",
   "execution_count": 47,
   "metadata": {},
   "outputs": [
    {
     "name": "stdout",
     "output_type": "stream",
     "text": [
      "Epoch:  1 0.5006967303955999 0.5779690516038972\n",
      "Epoch:  41 0.0974435957026254 0.38768808863234716\n",
      "Epoch:  81 0.05780451771513483 0.4052969386197018\n",
      "Epoch:  121 0.04107824474078226 0.42439577037296905\n",
      "Epoch:  161 0.031824537884150725 0.4415849158461817\n",
      "Epoch:  201 0.025955258239583858 0.45690649065722555\n"
     ]
    },
    {
     "data": {
      "image/png": "[encoded data removed]",
      "text/plain": [
       "<Figure size 432x288 with 1 Axes>"
      ]
     },
     "metadata": {
      "needs_background": "light"
     },
     "output_type": "display_data"
    }
   ],
   "source": [
    "# BOCN-tfidf\n",
    "weights_BOCN_tfidf, training_loss_history, validation_loss_history = SGD(train_tfidf_vectors_BOCN, sen_train_labels,\n",
    "                                                              X_dev = dev_tfidf_vectors_BOCN,Y_dev= sen_dev_labels,\n",
    "                                                             lr=0.0001,alpha=0.001,epochs=100)\n",
    "\n",
    "epoch = np.array(range(len(training_loss_history)))\n",
    "plt.plot(epoch, training_loss_history,label='train loss')\n",
    "plt.plot(epoch, validation_loss_history,label = 'validation loss')\n",
    "plt.xlabel('Epoch')\n",
    "plt.ylabel('Loss')\n",
    "plt.legend()\n",
    "plt.show()"
   ]
  },
  {
   "cell_type": "markdown",
   "metadata": {},
   "source": [
    "The model is wrong. After about 20 epochs, there is overfitting, as the training set performs better, while the validation training does get worse, and the loss of validation rises significantily as the number of cycles increases."
   ]
  },
  {
   "cell_type": "code",
   "execution_count": 48,
   "metadata": {},
   "outputs": [
    {
     "name": "stdout",
     "output_type": "stream",
     "text": [
      "Accuracy: 0.8175\n",
      "Precision: 0.8159203980099502\n",
      "Recall: 0.82\n",
      "F1-Score: 0.8179551122194513\n"
     ]
    }
   ],
   "source": [
    "preds_te_count = predict_class(test_tfidf_vectors_BOCN, weights_BOCN_tfidf)\n",
    "Y_te = sen_test_labels\n",
    "\n",
    "print('Accuracy:', accuracy_score(Y_te,preds_te_count))\n",
    "print('Precision:', precision_score(Y_te,preds_te_count))\n",
    "print('Recall:', recall_score(Y_te,preds_te_count))\n",
    "print('F1-Score:', f1_score(Y_te,preds_te_count))"
   ]
  },
  {
   "cell_type": "markdown",
   "metadata": {},
   "source": [
    "#### BOW + BOCN\n",
    "The best performances of BOW and BOCN are both tfidf"
   ]
  },
  {
   "cell_type": "code",
   "execution_count": 49,
   "metadata": {},
   "outputs": [
    {
     "name": "stdout",
     "output_type": "stream",
     "text": [
      "Epoch:  1 0.47743284608409065 0.5663944877410824\n",
      "Epoch:  41 0.0746200511226164 0.3758267914027169\n",
      "Epoch:  81 0.041931260030588974 0.3872907986137366\n",
      "Epoch:  121 0.029080621055235036 0.4011757260333431\n",
      "Epoch:  161 0.022231460131138338 0.41364255345994133\n"
     ]
    },
    {
     "data": {
      "image/png": "[encoded data removed]",
      "text/plain": [
       "<Figure size 432x288 with 1 Axes>"
      ]
     },
     "metadata": {
      "needs_background": "light"
     },
     "output_type": "display_data"
    }
   ],
   "source": [
    "# BOW(tfidf) + BOCN(tfidf)\n",
    "weights_combined, training_loss_history, validation_loss_history = SGD(combined_train_tfidf, sen_train_labels,\n",
    "                                                              X_dev = combined_dev_tfidf,Y_dev= sen_dev_labels,\n",
    "                                                             lr=0.0001,alpha=0.001,epochs=100)\n",
    "\n",
    "epoch = np.array(range(len(training_loss_history)))\n",
    "plt.plot(epoch, training_loss_history,label='train loss')\n",
    "plt.plot(epoch, validation_loss_history,label = 'validation loss')\n",
    "plt.xlabel('Epoch')\n",
    "plt.ylabel('Loss')\n",
    "plt.legend()\n",
    "plt.show()"
   ]
  },
  {
   "cell_type": "markdown",
   "metadata": {},
   "source": [
    "After about 20 epochs, there is overfitting, as the training set performs better, while the validation training does get worse, and the loss of validation rises significantily as the number of cycles increases, there is a obvious overfitting in the model."
   ]
  },
  {
   "cell_type": "code",
   "execution_count": 50,
   "metadata": {},
   "outputs": [
    {
     "name": "stdout",
     "output_type": "stream",
     "text": [
      "Accuracy: 0.8375\n",
      "Precision: 0.8292682926829268\n",
      "Recall: 0.85\n",
      "F1-Score: 0.8395061728395061\n"
     ]
    }
   ],
   "source": [
    "preds_te_count = predict_class(combined_test_tfidf, weights_combined)\n",
    "Y_te = sen_test_labels\n",
    "\n",
    "print('Accuracy:', accuracy_score(Y_te,preds_te_count))\n",
    "print('Precision:', precision_score(Y_te,preds_te_count))\n",
    "print('Recall:', recall_score(Y_te,preds_te_count))\n",
    "print('F1-Score:', f1_score(Y_te,preds_te_count))"
   ]
  },
  {
   "cell_type": "markdown",
   "metadata": {},
   "source": [
    "\n",
    "\n",
    "## Full Results\n",
    "\n",
    "Add here your results:\n",
    "\n",
    "| LR | Precision  | Recall  | F1-Score  |\n",
    "|:-:|:-:|:-:|:-:|\n",
    "| BOW-count  |0.8125|0.845|0.828|\n",
    "| BOW-tfidf  |0.838|0.855|0.846|\n",
    "| BOCN-count  |0.8|0.8|0.8|\n",
    "| BOCN-tfidf  |0.815|0.82|0.817|\n",
    "| BOW+BOCN  |0.829|0.85|0.839|\n",
    "\n",
    "Please discuss why your best performing model is better than the rest."
   ]
  },
  {
   "cell_type": "markdown",
   "metadata": {},
   "source": [
    "It can be seen from the results that the overall effect of BOW is slightly higher than that of BOCN strategy, mainly because BOCN splits words, which leads to a larger dimension of the vector, and the model will learn some noise from the split, and the operation efficiency is also lower.Inside the BOW, TFIDF works better, introducing word weights, which is more conducive to training an accurate model. In addition the bocn model has been over-fitted."
   ]
  },
  {
   "cell_type": "markdown",
   "metadata": {},
   "source": [
    "# Task 2: Multi-class Logistic Regression \n",
    "\n",
    "Now you need to train a Multiclass Logistic Regression (MLR) Classifier by extending the Binary model you developed above. You will use the MLR model to perform topic classification on the AG news dataset consisting of three classes:"
   ]
  },
  {
   "cell_type": "markdown",
   "metadata": {},
   "source": [
    "- Class 1: World\n",
    "- Class 2: Sports\n",
    "- Class 3: Business"
   ]
  },
  {
   "cell_type": "markdown",
   "metadata": {},
   "source": [
    "You need to follow the same process as in Task 1 for data processing and feature extraction by reusing the functions you wrote."
   ]
  },
  {
   "cell_type": "code",
   "execution_count": 51,
   "metadata": {},
   "outputs": [],
   "source": [
    "topic_train_vocab, topic_train_df, topic_train_ngram_counts = get_vocab(topic_train_articles, \n",
    "                                                                        min_df = 5, keep_topN= 5000)\n",
    "topic_train_vocab_BOCN, topic_train_df_BOCN, topic_train_ngram_counts_BOCN = get_vocab(topic_train_articles,\n",
    "                                                                                       ngram_range= (4,7), min_df = 5, \n",
    "                                                                                       keep_topN= 5000,\n",
    "                                                                                       char_ngrams=True)"
   ]
  },
  {
   "cell_type": "code",
   "execution_count": 52,
   "metadata": {},
   "outputs": [],
   "source": [
    "topic_dev_vocab, topic_dev_df, topic_dev_ngram_counts = get_vocab(topic_dev_articles, \n",
    "                                                                  min_df = 5, keep_topN= 5000)\n",
    "topic_dev_vocab_BOCN, topic_dev_df_BOCN, topic_dev_ngram_counts_BOCN = get_vocab(topic_dev_articles,\n",
    "                                                                                 ngram_range= (4,7), min_df = 5, \n",
    "                                                                                 keep_topN= 5000,char_ngrams=True)"
   ]
  },
  {
   "cell_type": "code",
   "execution_count": 53,
   "metadata": {},
   "outputs": [],
   "source": [
    "topic_test_vocab, topic_test_df, topic_test_ngram_counts = get_vocab(topic_test_articles, \n",
    "                                                                     min_df = 5, keep_topN= 5000)\n",
    "topic_test_vocab_BOCN, topic_test_df_BOCN, topic_test_ngram_counts_BOCN = get_vocab(topic_test_articles,\n",
    "                                                                                    ngram_range= (4,7), min_df = 5, \n",
    "                                                                                    keep_topN= 5000,char_ngrams=True)"
   ]
  },
  {
   "cell_type": "markdown",
   "metadata": {},
   "source": [
    "#### Count vectors"
   ]
  },
  {
   "cell_type": "code",
   "execution_count": 54,
   "metadata": {},
   "outputs": [],
   "source": [
    "topic_train_vec = vectorise(topic_train_articles,vocab = topic_train_vocab)\n",
    "topic_dev_vec = vectorise(topic_dev_articles,vocab = topic_train_vocab)\n",
    "topic_test_vec = vectorise(topic_test_articles,vocab = topic_train_vocab)"
   ]
  },
  {
   "cell_type": "code",
   "execution_count": 55,
   "metadata": {},
   "outputs": [],
   "source": [
    "topic_train_vec_BOCN = vectorise(topic_train_articles,vocab = topic_train_vocab_BOCN, bocn = True)\n",
    "topic_dev_vec_BOCN = vectorise(topic_dev_articles,vocab = topic_train_vocab_BOCN, bocn = True)\n",
    "topic_test_vec_BOCN = vectorise(topic_test_articles,vocab = topic_train_vocab_BOCN, bocn = True)"
   ]
  },
  {
   "cell_type": "markdown",
   "metadata": {},
   "source": [
    "#### idf"
   ]
  },
  {
   "cell_type": "code",
   "execution_count": 56,
   "metadata": {},
   "outputs": [],
   "source": [
    "topic_idfs = get_idf(topic_train_vocab,topic_train_articles,topic_train_vec)\n",
    "topic_idfs_BOCN = get_idf(topic_train_vocab_BOCN,topic_train_articles,topic_train_vec_BOCN)"
   ]
  },
  {
   "cell_type": "markdown",
   "metadata": {},
   "source": [
    "#### tf.idf vectors"
   ]
  },
  {
   "cell_type": "code",
   "execution_count": 57,
   "metadata": {},
   "outputs": [],
   "source": [
    "topic_train_tfidf_vectors = topic_train_vec * topic_idfs\n",
    "topic_dev_tfidf_vectors = topic_dev_vec * topic_idfs\n",
    "topic_test_tfidf_vectors = topic_test_vec * topic_idfs"
   ]
  },
  {
   "cell_type": "code",
   "execution_count": 58,
   "metadata": {},
   "outputs": [],
   "source": [
    "topic_train_tfidf_vectors_BOCN = topic_train_vec_BOCN * topic_idfs_BOCN\n",
    "topic_dev_tfidf_vectors_BOCN = topic_dev_vec_BOCN * topic_idfs_BOCN\n",
    "topic_test_tfidf_vectors_BOCN = topic_test_vec_BOCN * topic_idfs_BOCN"
   ]
  },
  {
   "cell_type": "code",
   "execution_count": 59,
   "metadata": {},
   "outputs": [],
   "source": [
    "# bow(tfidf) + bocn(tfidf)\n",
    "topic_combined_tfidf_train = np.hstack((topic_train_tfidf_vectors,topic_train_tfidf_vectors_BOCN))\n",
    "topic_combined_tfidf_dev = np.hstack((topic_dev_tfidf_vectors,topic_dev_tfidf_vectors_BOCN))\n",
    "topic_combined_tfidf_test = np.hstack((topic_test_tfidf_vectors,topic_test_tfidf_vectors_BOCN))"
   ]
  },
  {
   "cell_type": "markdown",
   "metadata": {},
   "source": [
    "#### 2 dictionaries: (1) vocabulary id -> word; and  (2) word -> vocabulary id so you can use them for reference:"
   ]
  },
  {
   "cell_type": "code",
   "execution_count": 60,
   "metadata": {},
   "outputs": [],
   "source": [
    "word2id_2 = {}\n",
    "id2word_2 = {}\n",
    "\n",
    "for word in topic_train_vocab:\n",
    "    if word not in word2id_2:\n",
    "        new_id = len(word2id_2)\n",
    "        word2id_2[word] = new_id\n",
    "        id2word_2[new_id] = word"
   ]
  },
  {
   "cell_type": "markdown",
   "metadata": {},
   "source": [
    "Now you need to change `SGD` to support multiclass datasets. First you need to develop a `softmax` function. It takes as input:\n",
    "\n",
    "- `z`: array of real numbers \n",
    "\n",
    "and returns:\n",
    "\n",
    "- `smax`: the softmax of `z`"
   ]
  },
  {
   "cell_type": "code",
   "execution_count": 61,
   "metadata": {},
   "outputs": [],
   "source": [
    "def softmax(z): # z.shape:  1 × classNumber \n",
    "    z = np.array(z)\n",
    "    z = np.exp(z)  \n",
    "    smax = z / np.sum(z)\n",
    "    return smax #  sum(smax) = 1"
   ]
  },
  {
   "cell_type": "markdown",
   "metadata": {},
   "source": [
    "Then modify `predict_proba` and `predict_class` functions for the multiclass case:"
   ]
  },
  {
   "cell_type": "code",
   "execution_count": 62,
   "metadata": {},
   "outputs": [],
   "source": [
    "def predict_proba(X, weights): # weights.shape: classNumber × X.shape[1]\n",
    "    return softmax(np.dot(X, weights.T))  # shape: 1 × classNumber"
   ]
  },
  {
   "cell_type": "code",
   "execution_count": 63,
   "metadata": {},
   "outputs": [],
   "source": [
    "def predict_class(X, weights):\n",
    "    pred_proba = predict_proba(X, weights)\n",
    "    preds_class = np.argmax(pred_proba,axis = 1) + 1 # +1: for the index from 0 but the class index from 1\n",
    "    return preds_class"
   ]
  },
  {
   "cell_type": "markdown",
   "metadata": {},
   "source": [
    "Now you need to compute the categorical cross entropy loss (extending the binary loss to support multiple classes)."
   ]
  },
  {
   "cell_type": "code",
   "execution_count": 64,
   "metadata": {
    "ExecuteTime": {
     "end_time": "2020-02-15T14:18:09.095415Z",
     "start_time": "2020-02-15T14:18:09.090680Z"
    }
   },
   "outputs": [],
   "source": [
    "def categorical_loss(X, Y, weights, num_classes=5, alpha=0.00001):\n",
    "    '''\n",
    "    X:(len(X),len(vocab))\n",
    "    Y: array len(Y)\n",
    "    weights: array len(X)\n",
    "    '''\n",
    "    loss_CE = 0\n",
    "    for i in range(len(Y)):\n",
    "        proba = predict_proba(X[i], weights)\n",
    "        loss_CE += -np.log(proba.max())\n",
    "    \n",
    "    L2 = alpha * (weights * weights).sum() # the Regularization\n",
    "    l = (loss_CE + L2)/X.shape[0] # the average loss\n",
    "    \n",
    "    return l"
   ]
  },
  {
   "cell_type": "markdown",
   "metadata": {
    "ExecuteTime": {
     "end_time": "2020-02-15T14:08:59.937442Z",
     "start_time": "2020-02-15T14:08:59.932221Z"
    }
   },
   "source": [
    "Finally you need to modify SGD to support the categorical cross entropy loss:"
   ]
  },
  {
   "cell_type": "code",
   "execution_count": 65,
   "metadata": {},
   "outputs": [],
   "source": [
    "def SGD(X_tr, Y_tr, X_dev=[], Y_dev=[], num_classes=3, lr=0.1,\n",
    "        alpha=0.00001, epochs = 5, tolerance=0.0001, print_progress = True):\n",
    "    \n",
    "    weights = np.zeros(((num_classes, X_tr.shape[1]))) # here, weight is a matrix not a vector\n",
    "    training_loss_history = []\n",
    "    validation_loss_history = []\n",
    "\n",
    "    shuffled_index_list = list(range(len(Y_tr)))\n",
    "    \n",
    "    count = 0\n",
    "    while True:\n",
    "        count += 1\n",
    "        np.random.shuffle(shuffled_index_list)\n",
    "    \n",
    "        for i in shuffled_index_list:\n",
    "            true_index = Y_tr[i]-1 # the index of ture class in return value of \"predict_proba\"\n",
    "            grad = (predict_proba(X_tr[i], weights)[true_index] - 1) * X_tr[i]\n",
    "            weights[true_index] = weights[true_index] - lr * grad\n",
    "            \n",
    "        temp_train_loss = categorical_loss(X_tr, Y_tr, weights, alpha)\n",
    "        temp_val_loss = categorical_loss(X_dev, Y_dev, weights, alpha)        \n",
    "\n",
    "        training_loss_history.append(temp_train_loss)\n",
    "        validation_loss_history.append(temp_val_loss)\n",
    "        \n",
    "        if print_progress and (count%50 == 1):\n",
    "            print(count, temp_train_loss, temp_val_loss)\n",
    "        \n",
    "        if (training_loss_history[count-2] - training_loss_history[count-1] <= tolerance) & (count >= epochs):\n",
    "            break\n",
    "    \n",
    "    return weights, training_loss_history, validation_loss_history"
   ]
  },
  {
   "cell_type": "markdown",
   "metadata": {
    "ExecuteTime": {
     "end_time": "2020-02-15T14:10:15.772383Z",
     "start_time": "2020-02-15T14:10:15.767855Z"
    }
   },
   "source": [
    "Now you are ready to train and evaluate you MLR following the same steps as in Task 1 for the different vector representations"
   ]
  },
  {
   "cell_type": "code",
   "execution_count": 66,
   "metadata": {},
   "outputs": [
    {
     "name": "stdout",
     "output_type": "stream",
     "text": [
      "1 1.079025923245424 1.0881997183087113\n",
      "51 0.66413212523232 0.8034023790272834\n",
      "101 0.5188132284004437 0.6717950839706861\n",
      "151 0.4413282849741647 0.5929495834725185\n",
      "201 0.3919250375297482 0.5394574765423987\n",
      "251 0.35708306428894826 0.5001501334152251\n",
      "301 0.3310279132543833 0.46980147615685186\n",
      "351 0.3105572135716352 0.44542301735464074\n",
      "401 0.29365135785435065 0.42530545191682656\n",
      "451 0.27949446699508873 0.40814297218448153\n",
      "501 0.2673329834522763 0.3933729979091753\n",
      "551 0.25671856756304307 0.3801396712251576\n",
      "601 0.24730823958134265 0.3683550847980341\n",
      "651 0.2389063062769407 0.3578668184667315\n",
      "701 0.2313578990501172 0.3484612959698075\n",
      "751 0.22454840182201646 0.3397973879346513\n",
      "801 0.2183565442562586 0.33192223892380035\n",
      "851 0.21260418809834383 0.3247278933939444\n",
      "901 0.20720266948012062 0.31812596293907663\n"
     ]
    },
    {
     "data": {
      "image/png": "[encoded data removed]",
      "text/plain": [
       "<Figure size 432x288 with 1 Axes>"
      ]
     },
     "metadata": {
      "needs_background": "light"
     },
     "output_type": "display_data"
    }
   ],
   "source": [
    "weights, training_loss_history, validation_loss_history = SGD(topic_train_vec, topic_train_labels, \n",
    "                                                              X_dev=topic_dev_vec, Y_dev=topic_dev_labels,\n",
    "                                                              num_classes=3,lr=0.0001, alpha=0.1, epochs=200)\n",
    "\n",
    "epoch = np.array(range(len(training_loss_history)))\n",
    "plt.plot(epoch, training_loss_history,label='train loss')\n",
    "plt.plot(epoch, validation_loss_history,label = 'validation loss')\n",
    "plt.xlabel('Epoch')\n",
    "plt.ylabel('Loss')\n",
    "plt.legend()\n",
    "plt.show()"
   ]
  },
  {
   "cell_type": "markdown",
   "metadata": {},
   "source": [
    "The model is correct, and neigther overfit nor underfit, as the overall trend for both lines is down and close."
   ]
  },
  {
   "cell_type": "markdown",
   "metadata": {},
   "source": [
    "Compute accuracy, precision, recall and F1-scores:"
   ]
  },
  {
   "cell_type": "code",
   "execution_count": 67,
   "metadata": {
    "ExecuteTime": {
     "end_time": "2020-02-15T14:20:54.864071Z",
     "start_time": "2020-02-15T14:20:54.850199Z"
    }
   },
   "outputs": [
    {
     "name": "stdout",
     "output_type": "stream",
     "text": [
      "Accuracy: 0.8366666666666667\n",
      "Precision: 0.8446856406310345\n",
      "Recall: 0.8366666666666666\n",
      "F1-Score: 0.8364301378353357\n"
     ]
    }
   ],
   "source": [
    "preds_te = predict_class(topic_test_vec, weights)\n",
    "Y_te = topic_test_labels\n",
    "\n",
    "print('Accuracy:', accuracy_score(Y_te,preds_te))\n",
    "print('Precision:', precision_score(Y_te,preds_te,average='macro'))\n",
    "print('Recall:', recall_score(Y_te,preds_te,average='macro'))\n",
    "print('F1-Score:', f1_score(Y_te,preds_te,average='macro'))"
   ]
  },
  {
   "cell_type": "markdown",
   "metadata": {},
   "source": [
    "### Discuss how did you choose model hyperparameters (e.g. learning rate and regularisation strength)? What is the relation between training epochs and learning rate? How the regularisation strength affects performance?"
   ]
  },
  {
   "cell_type": "markdown",
   "metadata": {},
   "source": [
    "#### The reult of different hyperparameters\n",
    "\n",
    "| Learning rate | regularisation strength |Precision  | Recall  | F1-Score  | num_epoch  |\n",
    "|:-:|:-:|:-:|:-:|:-:|:-:|\n",
    "|0.0001|0.1|0.845|0.837|0.836|901|\n",
    "|0.001|0.1|0.838|0.828|0.828|451|\n",
    "|0.0001|0.01|0.845|0.837|0.836|901|\n",
    "\n",
    "Based on tests, learning rate is set to 0.001 and the regularization strength is set to 0.001. Change these two value and compare the results:\n",
    "\n",
    "The learning rate determines the step size of each optimization. The larger the learning rate, the faster the optimization and the smaller the number of epochs required. If the learning rate is too large, it is possible that the loss will not converge.\n",
    "\n",
    "The larger the regularisation, the smaller the weight of the less important words, the easier it is to filter out noise and reduce the risk of overfitting; however, too large value of regularisation strength can lead to underfitting."
   ]
  },
  {
   "cell_type": "markdown",
   "metadata": {},
   "source": [
    "### Now repeat the training and evaluation process for BOW-tfidf, BOCN-count, BOCN-tfidf, BOW+BOCN including hyperparameter tuning..."
   ]
  },
  {
   "cell_type": "markdown",
   "metadata": {},
   "source": [
    "#### BOW-tfidf"
   ]
  },
  {
   "cell_type": "code",
   "execution_count": 68,
   "metadata": {},
   "outputs": [
    {
     "name": "stdout",
     "output_type": "stream",
     "text": [
      "1 1.0507972552187066 1.0733344322548022\n",
      "51 0.427862232870273 0.6092537952659333\n",
      "101 0.30931221671266024 0.47998733994706055\n",
      "151 0.25562360205288026 0.4135228423726523\n",
      "201 0.22300412619524618 0.37181884999582604\n",
      "251 0.2002626613301864 0.3422225068224724\n",
      "301 0.183288895834549 0.32022604102668023\n",
      "351 0.1698676958770357 0.3032627347610259\n",
      "401 0.15882660112263836 0.2897900454741926\n",
      "451 0.14974987959195238 0.2787418796684888\n",
      "501 0.1420025441385866 0.2692011452612754\n",
      "551 0.13525126516079988 0.2611188072029868\n",
      "601 0.1292713889044322 0.25411551380510333\n"
     ]
    },
    {
     "data": {
      "image/png": "[encoded data removed]",
      "text/plain": [
       "<Figure size 432x288 with 1 Axes>"
      ]
     },
     "metadata": {
      "needs_background": "light"
     },
     "output_type": "display_data"
    }
   ],
   "source": [
    "weights, training_loss_history, validation_loss_history = SGD(topic_train_tfidf_vectors, topic_train_labels, \n",
    "                                                              X_dev=topic_dev_tfidf_vectors, Y_dev=topic_dev_labels,\n",
    "                                                              num_classes=3,lr=0.0001, alpha=0.1, epochs=200)\n",
    "\n",
    "epoch = np.array(range(len(training_loss_history)))\n",
    "plt.plot(epoch, training_loss_history,label='train loss')\n",
    "plt.plot(epoch, validation_loss_history,label = 'validation loss')\n",
    "plt.xlabel('Epoch')\n",
    "plt.ylabel('Loss')\n",
    "plt.legend()\n",
    "plt.show()"
   ]
  },
  {
   "cell_type": "markdown",
   "metadata": {},
   "source": [
    "The model is correct, and neigther overfit nor underfit, as the overall trend for both lines is down and close."
   ]
  },
  {
   "cell_type": "code",
   "execution_count": 69,
   "metadata": {},
   "outputs": [
    {
     "name": "stdout",
     "output_type": "stream",
     "text": [
      "Accuracy: 0.8588888888888889\n",
      "Precision: 0.864751693194807\n",
      "Recall: 0.8588888888888889\n",
      "F1-Score: 0.8595311097130444\n"
     ]
    }
   ],
   "source": [
    "preds_te = predict_class(topic_test_tfidf_vectors, weights)\n",
    "Y_te = topic_test_labels\n",
    "\n",
    "print('Accuracy:', accuracy_score(Y_te,preds_te))\n",
    "print('Precision:', precision_score(Y_te,preds_te,average='macro'))\n",
    "print('Recall:', recall_score(Y_te,preds_te,average='macro'))\n",
    "print('F1-Score:', f1_score(Y_te,preds_te,average='macro'))"
   ]
  },
  {
   "cell_type": "markdown",
   "metadata": {},
   "source": [
    "#### Finally, print the top-10 words for the negative and positive class respectively."
   ]
  },
  {
   "cell_type": "code",
   "execution_count": 70,
   "metadata": {},
   "outputs": [],
   "source": [
    "# Class 1: World\n",
    "# Class 2: Sports\n",
    "# Class 3: Business\n",
    "class_list = []\n",
    "top_class1 = weights[0].argsort()[::-1][:10] # the top 10 important weight in class 1\n",
    "top_class2 = weights[1].argsort()[::-1][:10] # ```in class 2\n",
    "top_class3 = weights[2].argsort()[::-1][:10] # ```in class 3\n",
    "\n",
    "class_list.append(top_class1)\n",
    "class_list.append(top_class2)\n",
    "class_list.append(top_class3)\n",
    "\n",
    "class_name = []\n",
    "class_name.append('Class 1: World')\n",
    "class_name.append('Class 2: Sports')\n",
    "class_name.append('Class 3: Business')"
   ]
  },
  {
   "cell_type": "code",
   "execution_count": 71,
   "metadata": {},
   "outputs": [
    {
     "name": "stdout",
     "output_type": "stream",
     "text": [
      "------  Class 1: World ------\n",
      "Tuesday\n",
      "said\n",
      "AFP\n",
      "Greece\n",
      "('ATHENS', 'Greece')\n",
      "Monday\n",
      "oil\n",
      "AP\n",
      "their\n",
      "after\n",
      "------  Class 2: Sports ------\n",
      "AP\n",
      "Olympic\n",
      "ATHENS\n",
      "team\n",
      "first\n",
      "Greece\n",
      "Olympics\n",
      "after\n",
      "Tuesday\n",
      "gold\n",
      "------  Class 3: Business ------\n",
      "oil\n",
      "prices\n",
      "company\n",
      "said\n",
      "Reuters\n",
      "new\n",
      "more\n",
      "US\n",
      "Tuesday\n",
      "Google\n"
     ]
    }
   ],
   "source": [
    "for i,topic_class in enumerate(class_list):\n",
    "    print(\"------ \",class_name[i],\"------\")\n",
    "    for index in topic_class:\n",
    "        print(id2word_2[index])"
   ]
  },
  {
   "cell_type": "markdown",
   "metadata": {},
   "source": [
    "The categories make sense, with words such as AFP appearing in the first category; while the more important words in the sports category are Olympic, team, Olympics, first, gold, and Greece; and the business category is decided by words such as oil, company, price, and Google."
   ]
  },
  {
   "cell_type": "markdown",
   "metadata": {},
   "source": [
    "#### BOCN-count"
   ]
  },
  {
   "cell_type": "code",
   "execution_count": 72,
   "metadata": {},
   "outputs": [
    {
     "name": "stdout",
     "output_type": "stream",
     "text": [
      "1 0.9129318788395079 0.9734323794045125\n",
      "51 0.22763517435052738 0.30412055862897364\n",
      "101 0.1734172888950028 0.2326335388938784\n",
      "151 0.14630342329489698 0.19909377257866445\n",
      "201 0.12950566526613588 0.1800083468377429\n",
      "251 0.11786531949161104 0.1679338441806393\n",
      "301 0.10924500651712568 0.15898544132331008\n",
      "351 0.10229941395195187 0.1507988895275147\n",
      "401 0.09644339350365236 0.1434061930459927\n"
     ]
    },
    {
     "data": {
      "image/png": "[encoded data removed]",
      "text/plain": [
       "<Figure size 432x288 with 1 Axes>"
      ]
     },
     "metadata": {
      "needs_background": "light"
     },
     "output_type": "display_data"
    }
   ],
   "source": [
    "weights, training_loss_history, validation_loss_history = SGD(topic_train_vec_BOCN, topic_train_labels, \n",
    "                                                              X_dev=topic_dev_vec_BOCN, Y_dev=topic_dev_labels,\n",
    "                                                              num_classes=3,lr=0.0001, alpha=0.1, epochs=200)\n",
    "\n",
    "epoch = np.array(range(len(training_loss_history)))\n",
    "plt.plot(epoch, training_loss_history,label='train loss')\n",
    "plt.plot(epoch, validation_loss_history,label = 'validation loss')\n",
    "plt.xlabel('Epoch')\n",
    "plt.ylabel('Loss')\n",
    "plt.legend()\n",
    "plt.show()"
   ]
  },
  {
   "cell_type": "markdown",
   "metadata": {},
   "source": [
    "The model is correct, and neigther overfit nor underfit, as the overall trend for both lines is down and close."
   ]
  },
  {
   "cell_type": "code",
   "execution_count": 73,
   "metadata": {},
   "outputs": [
    {
     "name": "stdout",
     "output_type": "stream",
     "text": [
      "Accuracy: 0.8177777777777778\n",
      "Precision: 0.8315443403028118\n",
      "Recall: 0.8177777777777777\n",
      "F1-Score: 0.8197496071180281\n"
     ]
    }
   ],
   "source": [
    "preds_te = predict_class(topic_test_vec_BOCN, weights)\n",
    "Y_te = topic_test_labels\n",
    "\n",
    "print('Accuracy:', accuracy_score(Y_te,preds_te))\n",
    "print('Precision:', precision_score(Y_te,preds_te,average='macro'))\n",
    "print('Recall:', recall_score(Y_te,preds_te,average='macro'))\n",
    "print('F1-Score:', f1_score(Y_te,preds_te,average='macro'))"
   ]
  },
  {
   "cell_type": "markdown",
   "metadata": {},
   "source": [
    "#### BOCN-tfidf"
   ]
  },
  {
   "cell_type": "code",
   "execution_count": 74,
   "metadata": {},
   "outputs": [
    {
     "name": "stdout",
     "output_type": "stream",
     "text": [
      "1 0.7835339844257309 0.8763434511009734\n",
      "51 0.14669174042447694 0.22644154995823684\n",
      "101 0.10766936015874262 0.17763015635478593\n",
      "151 0.0881866415174089 0.15275961388128986\n",
      "201 0.07529832400849781 0.13725177088868687\n",
      "251 0.06592759469085335 0.12592355294259716\n",
      "301 0.05857942163093264 0.11771447605430825\n",
      "351 0.05279094428910452 0.11150538445696176\n"
     ]
    },
    {
     "data": {
      "image/png": "[encoded data removed]",
      "text/plain": [
       "<Figure size 432x288 with 1 Axes>"
      ]
     },
     "metadata": {
      "needs_background": "light"
     },
     "output_type": "display_data"
    }
   ],
   "source": [
    "weights, training_loss_history, validation_loss_history = SGD(topic_train_tfidf_vectors_BOCN, topic_train_labels, \n",
    "                                                              X_dev=topic_dev_tfidf_vectors_BOCN, Y_dev=topic_dev_labels,\n",
    "                                                              num_classes=3,lr=0.0001, alpha=0.1, epochs=200)\n",
    "\n",
    "epoch = np.array(range(len(training_loss_history)))\n",
    "plt.plot(epoch, training_loss_history,label='train loss')\n",
    "plt.plot(epoch, validation_loss_history,label = 'validation loss')\n",
    "plt.xlabel('Epoch')\n",
    "plt.ylabel('Loss')\n",
    "plt.legend()\n",
    "plt.show()"
   ]
  },
  {
   "cell_type": "markdown",
   "metadata": {},
   "source": [
    "The model is correct, and neigther overfit nor underfit, as the overall trend for both lines is down and close."
   ]
  },
  {
   "cell_type": "code",
   "execution_count": 75,
   "metadata": {},
   "outputs": [
    {
     "name": "stdout",
     "output_type": "stream",
     "text": [
      "Accuracy: 0.82\n",
      "Precision: 0.834492414278242\n",
      "Recall: 0.82\n",
      "F1-Score: 0.8220621533319274\n"
     ]
    }
   ],
   "source": [
    "preds_te = predict_class(topic_test_tfidf_vectors_BOCN, weights)\n",
    "Y_te = topic_test_labels\n",
    "\n",
    "print('Accuracy:', accuracy_score(Y_te,preds_te))\n",
    "print('Precision:', precision_score(Y_te,preds_te,average='macro'))\n",
    "print('Recall:', recall_score(Y_te,preds_te,average='macro'))\n",
    "print('F1-Score:', f1_score(Y_te,preds_te,average='macro'))"
   ]
  },
  {
   "cell_type": "markdown",
   "metadata": {},
   "source": [
    "#### BOW + BOCN\n",
    "The best performances of BOW and BOCN are both tfidf"
   ]
  },
  {
   "cell_type": "code",
   "execution_count": 76,
   "metadata": {},
   "outputs": [
    {
     "name": "stdout",
     "output_type": "stream",
     "text": [
      "1 0.7637600708756408 0.8641985203660979\n",
      "51 0.13872910856244475 0.22183299537594076\n",
      "101 0.09973577804827674 0.1745471362693708\n",
      "151 0.08020475074003834 0.15099982283301436\n",
      "201 0.067320168051755 0.1354111980530591\n",
      "251 0.058017530338105396 0.12466127534998274\n",
      "301 0.051163467330903864 0.11685277632313136\n"
     ]
    },
    {
     "data": {
      "image/png": "[encoded data removed]",
      "text/plain": [
       "<Figure size 432x288 with 1 Axes>"
      ]
     },
     "metadata": {
      "needs_background": "light"
     },
     "output_type": "display_data"
    }
   ],
   "source": [
    "# BOW(tfidf) + BOCN(tfidf)\n",
    "weights, training_loss_history, validation_loss_history = SGD(topic_combined_tfidf_train, topic_train_labels, \n",
    "                                                              X_dev=topic_combined_tfidf_dev, Y_dev=topic_dev_labels,\n",
    "                                                              num_classes=3,lr=0.0001, alpha=0.1, epochs=200)\n",
    "\n",
    "epoch = np.array(range(len(training_loss_history)))\n",
    "plt.plot(epoch, training_loss_history,label='train loss')\n",
    "plt.plot(epoch, validation_loss_history,label = 'validation loss')\n",
    "plt.xlabel('Epoch')\n",
    "plt.ylabel('Loss')\n",
    "plt.legend()\n",
    "plt.show()"
   ]
  },
  {
   "cell_type": "markdown",
   "metadata": {},
   "source": [
    "The model is correct, and neigther overfit nor underfit, as the overall trend for both lines is down and close."
   ]
  },
  {
   "cell_type": "code",
   "execution_count": 77,
   "metadata": {},
   "outputs": [
    {
     "name": "stdout",
     "output_type": "stream",
     "text": [
      "Accuracy: 0.8222222222222222\n",
      "Precision: 0.836593194751973\n",
      "Recall: 0.8222222222222223\n",
      "F1-Score: 0.8242850669080178\n"
     ]
    }
   ],
   "source": [
    "preds_te = predict_class(topic_combined_tfidf_test, weights)\n",
    "Y_te = topic_test_labels\n",
    "\n",
    "print('Accuracy:', accuracy_score(Y_te,preds_te))\n",
    "print('Precision:', precision_score(Y_te,preds_te,average='macro'))\n",
    "print('Recall:', recall_score(Y_te,preds_te,average='macro'))\n",
    "print('F1-Score:', f1_score(Y_te,preds_te,average='macro'))"
   ]
  },
  {
   "cell_type": "markdown",
   "metadata": {
    "ExecuteTime": {
     "end_time": "2020-02-15T14:16:42.567569Z",
     "start_time": "2020-02-15T14:16:42.562560Z"
    }
   },
   "source": [
    "## Full Results\n",
    "\n",
    "Add here your results:\n",
    "\n",
    "| LR | Precision  | Recall  | F1-Score  |\n",
    "|:-:|:-:|:-:|:-:|\n",
    "| BOW-count  |0.844|0.836|0.836|\n",
    "| BOW-tfidf  |0.864|0.858|0.859|\n",
    "| BOCN-count  |0.831|0.817|0.819|\n",
    "| BOCN-tfidf  |0.834|0.82|0.822|\n",
    "| BOW+BOCN  |0.836|0.822|0.824|\n",
    "\n",
    "Please discuss why your best performing model is better than the rest."
   ]
  },
  {
   "cell_type": "markdown",
   "metadata": {},
   "source": [
    "It can be seen from the results that the overall effect of BOW is slightly higher than that of BOCN strategy, mainly because BOCN splits words, which leads to a larger dimension of the vector, and the model will learn some noise from the split, and the operation efficiency is also lower.Inside the BOW, TFIDF works better, introducing word weights, which is more conducive to training an accurate model."
   ]
  },
  {
   "cell_type": "code",
   "execution_count": 78,
   "metadata": {},
   "outputs": [
    {
     "name": "stdout",
     "output_type": "stream",
     "text": [
      "Total time:  7.033333333333333  minutes.\n"
     ]
    }
   ],
   "source": [
    "end_time = datetime.now()\n",
    "cost_time=(end_time-start_time).seconds\n",
    "print(\"Total time: \",cost_time/60,\" minutes.\")"
   ]
  }
 ],
 "metadata": {
  "kernelspec": {
   "display_name": "Python 3",
   "language": "python",
   "name": "python3"
  },
  "language_info": {
   "codemirror_mode": {
    "name": "ipython",
    "version": 3
   },
   "file_extension": ".py",
   "mimetype": "text/x-python",
   "name": "python",
   "nbconvert_exporter": "python",
   "pygments_lexer": "ipython3",
   "version": "3.8.5"
  }
 },
 "nbformat": 4,
 "nbformat_minor": 2
}
